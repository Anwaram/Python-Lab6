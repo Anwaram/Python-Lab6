{
 "cells": [
  {
   "cell_type": "code",
   "execution_count": null,
   "id": "4e698b57",
   "metadata": {},
   "outputs": [
    {
     "name": "stdout",
     "output_type": "stream",
     "text": [
      "Enter a number : 123456789\n",
      "This is invalid number\n",
      "Enter a number : 1234567890\n",
      "Sorry, the number is not found\n",
      "Enter a number : ,kj12je\n",
      "This is invalid number\n",
      "Enter a number : 4444444444\n",
      "the owner name is :  Abdullah\n"
     ]
    }
   ],
   "source": [
    "d = {\n",
    "  'Name': [ 'Amal' , 'Mohammed' , 'Khadijah' , 'Abdullah' , 'Rawan' , 'Faisal' , 'Layla' ]\t,\n",
    "  'Number' : [1111111111, 2222222222, 3333333333, 4444444444, 5555555555, 6666666666, 7777777777] \n",
    "}\n",
    "\n",
    "while (True):\n",
    "    try:\n",
    "        n = int(input('Enter a number : '))\n",
    "        index = 0\n",
    "        for i in d['Number']:\n",
    "            if len(str(n)) != 10 :\n",
    "                print('This is invalid number')\n",
    "                break\n",
    "            if i == n:\n",
    "                print('the owner name is : ', d['Name'][index])\n",
    "                break\n",
    "            index+=1\n",
    "            if index == len(d['Number']):\n",
    "                print('Sorry, the number is not found')\n",
    "    except ValueError:\n",
    "        print('This is invalid number')\n",
    "    "
   ]
  },
  {
   "cell_type": "code",
   "execution_count": null,
   "id": "4c5cc4a5",
   "metadata": {},
   "outputs": [],
   "source": []
  }
 ],
 "metadata": {
  "kernelspec": {
   "display_name": "Python 3 (ipykernel)",
   "language": "python",
   "name": "python3"
  },
  "language_info": {
   "codemirror_mode": {
    "name": "ipython",
    "version": 3
   },
   "file_extension": ".py",
   "mimetype": "text/x-python",
   "name": "python",
   "nbconvert_exporter": "python",
   "pygments_lexer": "ipython3",
   "version": "3.9.13"
  }
 },
 "nbformat": 4,
 "nbformat_minor": 5
}
